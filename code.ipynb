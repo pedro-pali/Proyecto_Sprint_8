{
 "cells": [
  {
   "cell_type": "markdown",
   "id": "5333b506",
   "metadata": {},
   "source": [
    "Importmamos las librerías para extraer la información y convertirla a DataFrame."
   ]
  },
  {
   "cell_type": "code",
   "execution_count": 7,
   "id": "8a0d134e",
   "metadata": {},
   "outputs": [],
   "source": [
    "import pandas as pd\n",
    "import requests \n",
    "from bs4 import BeautifulSoup"
   ]
  },
  {
   "cell_type": "markdown",
   "id": "1b0793f5",
   "metadata": {},
   "source": [
    "Gurdamos la URL de donde obtendremos los datos en la variable url."
   ]
  },
  {
   "cell_type": "code",
   "execution_count": 8,
   "id": "aa6be70c",
   "metadata": {},
   "outputs": [],
   "source": [
    "url = 'https://practicum-content.s3.us-west-1.amazonaws.com/data-analyst-eng/moved_chicago_weather_2017.html'"
   ]
  },
  {
   "cell_type": "markdown",
   "id": "88d9bce2",
   "metadata": {},
   "source": [
    "Utilizamos la librería request para obtener los datos de la URL y los almacenamos en la variable req."
   ]
  },
  {
   "cell_type": "code",
   "execution_count": 9,
   "id": "42290097",
   "metadata": {},
   "outputs": [],
   "source": [
    "req = requests.get(url)"
   ]
  },
  {
   "cell_type": "markdown",
   "id": "2eaa3327",
   "metadata": {},
   "source": [
    "Utilizamos la librería BeautifulSoup para ordenar los datos en estructura de árbol."
   ]
  },
  {
   "cell_type": "code",
   "execution_count": 10,
   "id": "46429dbb",
   "metadata": {},
   "outputs": [],
   "source": [
    "soup = BeautifulSoup(req.text, 'lxml')\n"
   ]
  },
  {
   "cell_type": "markdown",
   "id": "f4b0cfeb",
   "metadata": {},
   "source": [
    "Almacenamos en la variable table los datos estructurados con las condiciones dadas,\n",
    "utilizando find(), le decimos que busque sobre los atributos señalados en las llaves."
   ]
  },
  {
   "cell_type": "code",
   "execution_count": 11,
   "id": "a61924ea",
   "metadata": {},
   "outputs": [],
   "source": [
    "table = soup.find('table', attrs={\"id\": \"weather_records\"})"
   ]
  },
  {
   "cell_type": "markdown",
   "id": "f5042458",
   "metadata": {},
   "source": [
    "Almacenamos los nombres de las columnas en la lista weather_columns,\n",
    "guardamos los nombres de las columnnas ('th') en la variable headers y\n",
    "extraemos solo el texto con .text y un bucle for."
   ]
  },
  {
   "cell_type": "code",
   "execution_count": 12,
   "id": "95324e9f",
   "metadata": {},
   "outputs": [],
   "source": [
    "weather_columns = []\n",
    "headers = table.find_all('th')\n",
    "for head in headers:\n",
    "    weather_columns.append(head.text)"
   ]
  },
  {
   "cell_type": "markdown",
   "id": "b536c32e",
   "metadata": {},
   "source": [
    "Almacenamos los datos de la tabla en la lista vacia weather_rows,\n",
    "guardamos en la variable body con el método find_all() todos los datos de las filas ('tr'),\n",
    "recorremos los datos de las filas y paramos en cada una de las celdas ('td'), \n",
    "si no es celda se lo brinca, esto para saltar el encabezado,\n",
    "creamos una variable para extraer el texto de cada celda y limpiar los espacios,\n",
    "guardamos los resultados en la lista de weather_rows."
   ]
  },
  {
   "cell_type": "code",
   "execution_count": 13,
   "id": "187b6ec4",
   "metadata": {},
   "outputs": [],
   "source": [
    "weather_rows = []\n",
    "body = table.find_all('tr')\n",
    "for row in body:\n",
    "    cells = row.find_all('td')\n",
    "    if not cells:\n",
    "        continue\n",
    "    values = [cell.get_text(strip=True) for cell in cells]\n",
    "    weather_rows.append(values)\n"
   ]
  },
  {
   "cell_type": "markdown",
   "id": "c8958bff",
   "metadata": {},
   "source": [
    "Creamos el DF weather_records"
   ]
  },
  {
   "cell_type": "code",
   "execution_count": 14,
   "id": "4a55a001",
   "metadata": {},
   "outputs": [
    {
     "name": "stdout",
     "output_type": "stream",
     "text": [
      "           Date and time Temperature       Description\n",
      "0    2017-11-01 00:00:00     276.150     broken clouds\n",
      "1    2017-11-01 01:00:00     275.700  scattered clouds\n",
      "2    2017-11-01 02:00:00     275.610   overcast clouds\n",
      "3    2017-11-01 03:00:00     275.350     broken clouds\n",
      "4    2017-11-01 04:00:00     275.240     broken clouds\n",
      "..                   ...         ...               ...\n",
      "692  2017-11-29 20:00:00     281.340        few clouds\n",
      "693  2017-11-29 21:00:00     281.690      sky is clear\n",
      "694  2017-11-29 22:00:00     281.070        few clouds\n",
      "695  2017-11-29 23:00:00     280.060      sky is clear\n",
      "696  2017-11-30 00:00:00     278.460      sky is clear\n",
      "\n",
      "[697 rows x 3 columns]\n"
     ]
    }
   ],
   "source": [
    "weather_records = (pd.DataFrame(weather_rows, columns = weather_columns))\n",
    "print(weather_records)"
   ]
  }
 ],
 "metadata": {
  "kernelspec": {
   "display_name": "Python 3",
   "language": "python",
   "name": "python3"
  },
  "language_info": {
   "codemirror_mode": {
    "name": "ipython",
    "version": 3
   },
   "file_extension": ".py",
   "mimetype": "text/x-python",
   "name": "python",
   "nbconvert_exporter": "python",
   "pygments_lexer": "ipython3",
   "version": "3.13.7"
  }
 },
 "nbformat": 4,
 "nbformat_minor": 5
}
